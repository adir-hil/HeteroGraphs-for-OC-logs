{
  "cells": [
    {
      "cell_type": "markdown",
      "metadata": {
        "id": "view-in-github",
        "colab_type": "text"
      },
      "source": [
        "<a href=\"https://colab.research.google.com/github/adir-hil/HeteroGraphs-for-OC-logs/blob/main/R12_preprocessing.ipynb\" target=\"_parent\"><img src=\"https://colab.research.google.com/assets/colab-badge.svg\" alt=\"Open In Colab\"/></a>"
      ]
    },
    {
      "cell_type": "markdown",
      "metadata": {
        "id": "QYiHJziQ4kTk"
      },
      "source": [
        "# Installing Packages"
      ]
    },
    {
      "cell_type": "code",
      "execution_count": 1,
      "metadata": {
        "id": "dsNj1mkbcdXE"
      },
      "outputs": [],
      "source": [
        "from IPython.display import clear_output\n",
        "\n",
        "!pip install -q torch-scatter -f https://data.pyg.org/whl/torch-2.5.1+cu121.html\n",
        "!pip install -q torch-sparse -f https://data.pyg.org/whl/torch-2.5.1+cu121.html\n",
        "!pip install -q git+https://github.com/pyg-team/pytorch_geometric.git\n",
        "!pip install pyg-lib -f https://data.pyg.org/whl/torch-2.5.1+cu121.html\n",
        "!pip install Pympler\n",
        "!pip install importlib\n",
        "clear_output()"
      ]
    },
    {
      "cell_type": "markdown",
      "metadata": {
        "id": "SEVbD9qU4ydW"
      },
      "source": [
        "# Dependencies"
      ]
    },
    {
      "cell_type": "code",
      "execution_count": 2,
      "metadata": {
        "colab": {
          "base_uri": "https://localhost:8080/"
        },
        "id": "e6oKyTOEiojN",
        "outputId": "25dc70ac-d297-4e72-c44d-bfaf75cc2747"
      },
      "outputs": [
        {
          "output_type": "stream",
          "name": "stdout",
          "text": [
            "Mounted at /content/gdrive\n",
            "/content/gdrive/MyDrive/ocel\n"
          ]
        },
        {
          "output_type": "stream",
          "name": "stderr",
          "text": [
            "/usr/local/lib/python3.11/dist-packages/torch_geometric/typing.py:84: UserWarning: An issue occurred while importing 'pyg-lib'. Disabling its usage. Stacktrace: /usr/local/lib/python3.11/dist-packages/libpyg.so: undefined symbol: _ZN5torch8autograd12VariableInfoC1ERKN2at6TensorE\n",
            "  warnings.warn(f\"An issue occurred while importing 'pyg-lib'. \"\n",
            "/usr/local/lib/python3.11/dist-packages/torch_geometric/typing.py:128: UserWarning: An issue occurred while importing 'torch-scatter'. Disabling its usage. Stacktrace: /usr/local/lib/python3.11/dist-packages/torch_scatter/_scatter_cuda.so: undefined symbol: _ZN2at4_ops16div__Tensor_mode4callERNS_6TensorERKS2_St8optionalIN3c1017basic_string_viewIcEEE\n",
            "  warnings.warn(f\"An issue occurred while importing 'torch-scatter'. \"\n",
            "/usr/local/lib/python3.11/dist-packages/torch_geometric/typing.py:166: UserWarning: An issue occurred while importing 'torch-sparse'. Disabling its usage. Stacktrace: /usr/local/lib/python3.11/dist-packages/torch_sparse/_spmm_cuda.so: undefined symbol: _ZN5torch8autograd12VariableInfoC1ERKN2at6TensorE\n",
            "  warnings.warn(f\"An issue occurred while importing 'torch-sparse'. \"\n"
          ]
        }
      ],
      "source": [
        "from google.colab import drive\n",
        "drive.mount('/content/gdrive',force_remount=True)\n",
        "%cd gdrive/MyDrive/ocel\n",
        "\n",
        "import pandas as pd\n",
        "# import utility_funcs_r1 as ufr1\n",
        "import utility_funcs_r1b as ufr1b\n",
        "import torch"
      ]
    },
    {
      "cell_type": "code",
      "execution_count": null,
      "metadata": {
        "colab": {
          "base_uri": "https://localhost:8080/",
          "height": 176
        },
        "id": "sB2WiO_qxw-j",
        "outputId": "d19e13c6-65b3-406b-8b1a-2f1c3a8131b0"
      },
      "outputs": [
        {
          "output_type": "error",
          "ename": "NameError",
          "evalue": "name 'ufr1' is not defined",
          "traceback": [
            "\u001b[0;31m---------------------------------------------------------------------------\u001b[0m",
            "\u001b[0;31mNameError\u001b[0m                                 Traceback (most recent call last)",
            "\u001b[0;32m<ipython-input-3-5ec53d155384>\u001b[0m in \u001b[0;36m<cell line: 0>\u001b[0;34m()\u001b[0m\n\u001b[1;32m      1\u001b[0m \u001b[0;31m# import utility_funcs_r1 as ufr1\u001b[0m\u001b[0;34m\u001b[0m\u001b[0;34m\u001b[0m\u001b[0m\n\u001b[1;32m      2\u001b[0m \u001b[0;32mimport\u001b[0m \u001b[0mimportlib\u001b[0m\u001b[0;34m\u001b[0m\u001b[0;34m\u001b[0m\u001b[0m\n\u001b[0;32m----> 3\u001b[0;31m \u001b[0mimportlib\u001b[0m\u001b[0;34m.\u001b[0m\u001b[0mreload\u001b[0m\u001b[0;34m(\u001b[0m\u001b[0mufr1\u001b[0m\u001b[0;34m)\u001b[0m\u001b[0;34m\u001b[0m\u001b[0;34m\u001b[0m\u001b[0m\n\u001b[0m",
            "\u001b[0;31mNameError\u001b[0m: name 'ufr1' is not defined"
          ]
        }
      ],
      "source": [
        "# import utility_funcs_r1 as ufr1\n",
        "import importlib\n",
        "importlib.reload(ufr1)"
      ]
    },
    {
      "cell_type": "markdown",
      "metadata": {
        "id": "Tr-978r76-9P"
      },
      "source": [
        "# PreProcessing"
      ]
    },
    {
      "cell_type": "code",
      "execution_count": 84,
      "metadata": {
        "colab": {
          "base_uri": "https://localhost:8080/"
        },
        "id": "fQC0NAXMjJXk",
        "outputId": "50d142aa-cf1e-460b-b864-16533e2f8bd9"
      },
      "outputs": [
        {
          "output_type": "stream",
          "name": "stderr",
          "text": [
            "<ipython-input-84-cf89208f6960>:1: DtypeWarning: Columns (3,9,23) have mixed types. Specify dtype option on import or set low_memory=False.\n",
            "  new_df_lc = pd.read_csv('/content/gdrive/MyDrive/ocel/with_lables.csv')\n"
          ]
        }
      ],
      "source": [
        "new_df_lc = pd.read_csv('/content/gdrive/MyDrive/ocel/with_lables.csv')\n",
        "new_df_lc['LIFECYCLE_BATCH'] = new_df_lc['LIFECYCLE_BATCH'].astype(str)\n",
        "new_df_lc['TIMESTAMP'] = pd.to_datetime(new_df_lc['TIMESTAMP'])\n",
        "new_df_lc.drop(\"Unnamed: 0\",axis=1,inplace =True)\n",
        "new_df_lc.drop(\"Unnamed: 0.1\",axis=1,inplace =True)\n",
        "\n",
        "# Get the order of batches based on the first timestamp of each batch\n",
        "batch_order = new_df_lc.groupby('LIFECYCLE_BATCH')['TIMESTAMP'].min().sort_values().index\n",
        "# Reindex the dataframe based on the batch order\n",
        "new_df_lc = new_df_lc.set_index('LIFECYCLE_BATCH').loc[batch_order].reset_index()\n",
        "\n",
        "# Calculate the first timestamp in the dataframe\n",
        "first_timestamp = new_df_lc['TIMESTAMP'].min()\n",
        "\n",
        "# Create a new column called 'DAYS_FROM_FIRST_EVENT'\n",
        "new_df_lc['DAYS_FROM_FIRST_EVENT'] = (new_df_lc['TIMESTAMP'] - first_timestamp).dt.days"
      ]
    },
    {
      "cell_type": "code",
      "execution_count": 85,
      "metadata": {
        "id": "BNqp9xerjYhL"
      },
      "outputs": [],
      "source": [
        "features_cols = ['NEW_EVENT_ID','PRODUCT', 'MATERIAL', 'LIFECYCLE_BATCH','LOT','LOCATION',\n",
        "        'AREA','SITE','PMX_USER','PMX_ORDER','ORDER_STEP','TU']\n",
        "nodes_types = ['event','product', 'material', 'batch','lot','location',\n",
        "               'area','site','employee','order','order_step','tu']\n",
        "col_mapping = {node_type: col for node_type, col in zip(nodes_types, features_cols)}\n",
        "hours_cols = [f\"hour_{i}\" for i in range(24)]\n",
        "tertile_cols = ['tertile_12am-8am', 'tertile_8am-4pm', 'tertile_4pm-12am']"
      ]
    },
    {
      "cell_type": "code",
      "execution_count": 86,
      "metadata": {
        "colab": {
          "base_uri": "https://localhost:8080/"
        },
        "id": "buH41kz6nRex",
        "outputId": "0bc560b0-1025-418e-c81b-2a8abf13d115"
      },
      "outputs": [
        {
          "output_type": "stream",
          "name": "stdout",
          "text": [
            "Number of unique events processed: 271032\n",
            "Shape of activity one-hot encoded features: (271032, 9)\n",
            "Shape of hour features: (271032, 24)\n",
            "Shape of tertile features: (271032, 3)\n",
            "Shape of time features: (271032, 2)\n",
            "Shape of full event feature matrix: (271032, 38)\n"
          ]
        }
      ],
      "source": [
        "node_features_dict = dict(ufr1b.generate_node_features(new_df_lc, col_mapping,\n",
        "                                                      'NEW_EVENT_ID','ACTIVITY',\n",
        "                                                      hours_cols,tertile_cols,\n",
        "                                                      'grouped_time_since_first_day',\n",
        "                                                      'DAYS_FROM_LC_START')\n",
        ")"
      ]
    },
    {
      "cell_type": "markdown",
      "metadata": {
        "id": "Qi_ALZpJUITC"
      },
      "source": [
        "# Creating (PyG) Heterodata object"
      ]
    },
    {
      "cell_type": "markdown",
      "metadata": {
        "id": "clg3yB9XVcS7"
      },
      "source": [
        "Nodes"
      ]
    },
    {
      "cell_type": "code",
      "execution_count": 114,
      "metadata": {
        "id": "B-IQal72QG4w"
      },
      "outputs": [],
      "source": [
        "data = ufr1b.create_heterodata_nodes(node_features_dict)"
      ]
    },
    {
      "cell_type": "markdown",
      "metadata": {
        "id": "GERiPwuzVjCS"
      },
      "source": [
        "Edges"
      ]
    },
    {
      "cell_type": "markdown",
      "metadata": {
        "id": "8ztUFQEgC0ZN"
      },
      "source": [
        "### Required Edges -R1:"
      ]
    },
    {
      "cell_type": "code",
      "execution_count": 93,
      "metadata": {
        "id": "z0u5SOAoKtWZ"
      },
      "outputs": [],
      "source": [
        "edge_types_R1 = [\n",
        "#-------------Hierarchical object relationships-------------------------\n",
        "   {\n",
        "        'edge_type': ('area', 'O2O', 'site'),\n",
        "        'col_src': 'AREA',\n",
        "        'col_dst': 'SITE',\n",
        "        'edge_class': 'O2O',\n",
        "        'directed':False\n",
        "    },\n",
        "   {\n",
        "        'edge_type': ('location', 'O2O', 'area'),\n",
        "        'col_src': 'LOCATION',\n",
        "        'col_dst': 'AREA',\n",
        "        'edge_class': 'O2O',\n",
        "        'directed':False\n",
        "    },\n",
        "    {\n",
        "        'edge_type': ('tu', 'O2O', 'product'),\n",
        "        'col_src': 'TU',\n",
        "        'col_dst': 'PRODUCT',\n",
        "        'edge_class': 'O2O',\n",
        "        'directed':False\n",
        "    },\n",
        "    {\n",
        "        'edge_type': ('tu', 'O2O', 'material'),\n",
        "        'col_src': 'TU',\n",
        "        'col_dst': 'MATERIAL',\n",
        "        'edge_class': 'O2O',\n",
        "        'directed':False\n",
        "    },\n",
        "    {\n",
        "        'edge_type': ('tu', 'O2O', 'lot'),\n",
        "        'col_src': 'TU',\n",
        "        'col_dst': 'LOT',\n",
        "        'edge_class': 'O2O',\n",
        "        'directed':False\n",
        "    },\n",
        "    {\n",
        "        'edge_type': ('order', 'O2O', 'order_step'),\n",
        "        'col_src': 'PMX_ORDER',\n",
        "        'col_dst': 'ORDER_STEP',\n",
        "        'edge_class': 'O2O',\n",
        "        'directed':False\n",
        "    },\n",
        "    {\n",
        "        'edge_type': ('order', 'O2O', 'batch'),\n",
        "        'col_src': 'PMX_ORDER',\n",
        "        'col_dst': 'LIFECYCLE_BATCH',\n",
        "        'edge_class': 'O2O',\n",
        "        'directed':False\n",
        "    },\n",
        "#-------------Direct object relationships-------------------------\n",
        "    {\n",
        "        'edge_type': ('tu', 'O2O', 'employee'),\n",
        "        'col_src': 'TU',\n",
        "        'col_dst': 'PMX_USER',\n",
        "        'edge_class': 'O2O',\n",
        "        'directed':False\n",
        "    },\n",
        "    {\n",
        "        'edge_type': ('tu', 'O2O', 'location'),\n",
        "        'col_src': 'TU',\n",
        "        'col_dst': 'LOCATION',\n",
        "        'edge_class': 'O2O',\n",
        "        'directed':False\n",
        "    },\n",
        "    {\n",
        "        'edge_type': ('tu', 'O2O', 'order_step'),\n",
        "        'col_src': 'TU',\n",
        "        'col_dst': 'ORDER_STEP',\n",
        "        'edge_class': 'O2O',\n",
        "        'directed':False\n",
        "    },\n",
        "    {\n",
        "        'edge_type': ('order_step', 'O2O', 'employee'),\n",
        "        'col_src': 'ORDER_STEP',\n",
        "        'col_dst': 'PMX_USER',\n",
        "        'edge_class': 'O2O',\n",
        "        'directed':False\n",
        "    },\n",
        "    {\n",
        "        'edge_type': ('order_step', 'O2O', 'location'),\n",
        "        'col_src': 'ORDER_STEP',\n",
        "        'col_dst': 'LOCATION',\n",
        "        'edge_class': 'O2O',\n",
        "        'directed':False\n",
        "    },\n",
        "    {\n",
        "        'edge_type': ('location', 'O2O', 'employee'),\n",
        "        'col_src': 'LOCATION',\n",
        "        'col_dst': 'PMX_USER',\n",
        "        'edge_class': 'O2O',\n",
        "        'directed':False\n",
        "    },\n",
        "#-------------Event to Object Relationships---------------------\n",
        "    {\n",
        "        'edge_type': ('location', 'O2E', 'event'),\n",
        "        'col_src': 'NEW_EVENT_ID',\n",
        "        'col_dst': 'LOCATION',\n",
        "        'edge_class': 'O2E',\n",
        "        'directed':True\n",
        "    },\n",
        "    {\n",
        "        'edge_type': ('order_step', 'O2E', 'event'),\n",
        "        'col_src': 'NEW_EVENT_ID',\n",
        "        'col_dst': 'ORDER_STEP',\n",
        "        'edge_class': 'O2E',\n",
        "        'directed':True\n",
        "    },\n",
        "    {\n",
        "        'edge_type': ('employee', 'O2E', 'event'),\n",
        "        'col_src': 'NEW_EVENT_ID',\n",
        "        'col_dst': 'PMX_USER',\n",
        "        'edge_class': 'O2E',\n",
        "        'directed':True\n",
        "    },\n",
        "    {\n",
        "        'edge_type': ('tu', 'O2E', 'event'),\n",
        "        'col_src': 'NEW_EVENT_ID',\n",
        "        'col_dst': 'TU',\n",
        "        'edge_class': 'O2E',\n",
        "        'directed':True\n",
        "    },\n",
        "    {\n",
        "        'edge_type': ('batch', 'O2E', 'event'),\n",
        "        'col_src': 'NEW_EVENT_ID',\n",
        "        'col_dst': 'LIFECYCLE_BATCH',\n",
        "        'edge_class': 'O2E',\n",
        "        'directed':True\n",
        "    },\n",
        "#-----------Event to Event Relationships------------------\n",
        "    {\n",
        "        'edge_type': ('event', 'E2E', 'event'),\n",
        "        'col_src': 'NEW_EVENT_ID',\n",
        "        'col_dst': 'NEW_EVENT_ID',\n",
        "        'edge_class': 'E2E',\n",
        "        'directed':True\n",
        "    },\n",
        "]"
      ]
    },
    {
      "cell_type": "markdown",
      "source": [
        "### Required edges-R2"
      ],
      "metadata": {
        "id": "MwAmwO_Ejqsx"
      }
    },
    {
      "cell_type": "code",
      "source": [
        "edge_types_R2 = [\n",
        "#-------------Event to Object Relationships---------------------\n",
        "    {\n",
        "        'edge_type': ('lot', 'O2E', 'event'),\n",
        "        'col_src': 'NEW_EVENT_ID',\n",
        "        'col_dst': 'LOT',\n",
        "        'edge_class': 'O2E',\n",
        "        'directed':True\n",
        "    },\n",
        "    {\n",
        "        'edge_type': ('material', 'O2E', 'event'),\n",
        "        'col_src': 'NEW_EVENT_ID',\n",
        "        'col_dst': 'MATERIAL',\n",
        "        'edge_class': 'O2E',\n",
        "        'directed':True\n",
        "    },\n",
        "    {\n",
        "        'edge_type': ('product', 'O2E', 'event'),\n",
        "        'col_src': 'NEW_EVENT_ID',\n",
        "        'col_dst': 'PRODUCT',\n",
        "        'edge_class': 'O2E',\n",
        "        'directed':True\n",
        "    },\n",
        "    {\n",
        "        'edge_type': ('area', 'O2E', 'event'),\n",
        "        'col_src': 'NEW_EVENT_ID',\n",
        "        'col_dst': 'AREA',\n",
        "        'edge_class': 'O2E',\n",
        "        'directed':True\n",
        "    },\n",
        "    {\n",
        "        'edge_type': ('site', 'O2E', 'event'),\n",
        "        'col_src': 'NEW_EVENT_ID',\n",
        "        'col_dst': 'SITE',\n",
        "        'edge_class': 'O2E',\n",
        "        'directed':True\n",
        "    },\n",
        "    {\n",
        "        'edge_type': ('order', 'O2E', 'event'),\n",
        "        'col_src': 'NEW_EVENT_ID',\n",
        "        'col_dst': 'PMX_ORDER',\n",
        "        'edge_class': 'O2E',\n",
        "        'directed':True\n",
        "    },\n",
        "    {\n",
        "        'edge_type': ('location', 'O2E', 'event'),\n",
        "        'col_src': 'NEW_EVENT_ID',\n",
        "        'col_dst': 'LOCATION',\n",
        "        'edge_class': 'O2E',\n",
        "        'directed':True\n",
        "    },\n",
        "    {\n",
        "        'edge_type': ('order_step', 'O2E', 'event'),\n",
        "        'col_src': 'NEW_EVENT_ID',\n",
        "        'col_dst': 'ORDER_STEP',\n",
        "        'edge_class': 'O2E',\n",
        "        'directed':True\n",
        "    },\n",
        "    {\n",
        "        'edge_type': ('employee', 'O2E', 'event'),\n",
        "        'col_src': 'NEW_EVENT_ID',\n",
        "        'col_dst': 'PMX_USER',\n",
        "        'edge_class': 'O2E',\n",
        "        'directed':True\n",
        "    },\n",
        "    {\n",
        "        'edge_type': ('tu', 'O2E', 'event'),\n",
        "        'col_src': 'NEW_EVENT_ID',\n",
        "        'col_dst': 'TU',\n",
        "        'edge_class': 'O2E',\n",
        "        'directed':True\n",
        "    },\n",
        "    {\n",
        "        'edge_type': ('batch', 'O2E', 'event'),\n",
        "        'col_src': 'NEW_EVENT_ID',\n",
        "        'col_dst': 'LIFECYCLE_BATCH',\n",
        "        'edge_class': 'O2E',\n",
        "        'directed':True\n",
        "    },\n",
        "#-----------Event to Event Relationships------------------\n",
        "    {\n",
        "        'edge_type': ('event', 'E2E', 'event'),\n",
        "        'col_src': 'NEW_EVENT_ID',\n",
        "        'col_dst': 'NEW_EVENT_ID',\n",
        "        'edge_class': 'E2E',\n",
        "        'directed':True\n",
        "    },\n",
        "]"
      ],
      "metadata": {
        "id": "AYKEDS-UjvKX"
      },
      "execution_count": 115,
      "outputs": []
    },
    {
      "cell_type": "code",
      "execution_count": 116,
      "metadata": {
        "id": "JUZwWcLamwbx"
      },
      "outputs": [],
      "source": [
        "node_to_index_dict = ufr1b.create_node_index_mappings(new_df_lc, features_cols)"
      ]
    },
    {
      "cell_type": "code",
      "execution_count": 117,
      "metadata": {
        "colab": {
          "base_uri": "https://localhost:8080/"
        },
        "id": "51Sb3kv4dsTN",
        "outputId": "31e1922f-8d79-43fe-eef1-ebbf8caf71b2"
      },
      "outputs": [
        {
          "output_type": "stream",
          "name": "stdout",
          "text": [
            "Total Batches: 1165\n",
            "Train Batches:      815\n",
            "Validation Batches: 116\n",
            "Test Batches:       234\n",
            "Creating edges for ('lot', 'O2E', 'event') from columns NEW_EVENT_ID -> LOT [class=O2E]\n",
            "Creating edges for ('material', 'O2E', 'event') from columns NEW_EVENT_ID -> MATERIAL [class=O2E]\n",
            "Creating edges for ('product', 'O2E', 'event') from columns NEW_EVENT_ID -> PRODUCT [class=O2E]\n",
            "Creating edges for ('area', 'O2E', 'event') from columns NEW_EVENT_ID -> AREA [class=O2E]\n",
            "Creating edges for ('site', 'O2E', 'event') from columns NEW_EVENT_ID -> SITE [class=O2E]\n",
            "Creating edges for ('order', 'O2E', 'event') from columns NEW_EVENT_ID -> PMX_ORDER [class=O2E]\n",
            "Creating edges for ('location', 'O2E', 'event') from columns NEW_EVENT_ID -> LOCATION [class=O2E]\n",
            "Creating edges for ('order_step', 'O2E', 'event') from columns NEW_EVENT_ID -> ORDER_STEP [class=O2E]\n",
            "Creating edges for ('employee', 'O2E', 'event') from columns NEW_EVENT_ID -> PMX_USER [class=O2E]\n",
            "Creating edges for ('tu', 'O2E', 'event') from columns NEW_EVENT_ID -> TU [class=O2E]\n",
            "Creating edges for ('batch', 'O2E', 'event') from columns NEW_EVENT_ID -> LIFECYCLE_BATCH [class=O2E]\n",
            "Creating edges for ('event', 'E2E', 'event') from columns NEW_EVENT_ID -> NEW_EVENT_ID [class=E2E]\n"
          ]
        }
      ],
      "source": [
        "ratio_dict = {\"train\": 0.7, \"val\": 0.1, \"test\": 0.2}\n",
        "data = ufr1b.create_hetero_masks_and_edges(\n",
        "    df=new_df_lc,\n",
        "    data=data,\n",
        "    edge_types=edge_types_R2,\n",
        "    node_to_index_dict=node_to_index_dict,  # from create_node_index_mappings\n",
        "    ratio_dict=ratio_dict,\n",
        "    col_batch='LIFECYCLE_BATCH',\n",
        "    col_labels='log_days_to_finish'\n",
        "    # col_labels='days_to_finish'\n",
        ")"
      ]
    },
    {
      "cell_type": "code",
      "execution_count": null,
      "metadata": {
        "colab": {
          "base_uri": "https://localhost:8080/",
          "height": 36
        },
        "id": "D8j4ImqPf6aI",
        "outputId": "803aa074-d437-496c-9aab-82966c58bb59"
      },
      "outputs": [
        {
          "output_type": "execute_result",
          "data": {
            "text/plain": [
              "'meta-graph.png'"
            ],
            "application/vnd.google.colaboratory.intrinsic+json": {
              "type": "string"
            }
          },
          "metadata": {},
          "execution_count": 11
        }
      ],
      "source": [
        "ufr1b.visualize_heterodata_meta_graph(data)"
      ]
    },
    {
      "cell_type": "code",
      "execution_count": 122,
      "metadata": {
        "id": "yFMeV6W45pgd"
      },
      "outputs": [],
      "source": [
        "torch.save(data,'representations/R2_final_log.pth')"
      ]
    },
    {
      "cell_type": "code",
      "execution_count": 109,
      "metadata": {
        "id": "2g2z_rZVFdOA"
      },
      "outputs": [],
      "source": [
        "from torch_geometric.data import HeteroData\n",
        "\n",
        "def analyze_heterodata(data: HeteroData):\n",
        "    \"\"\"\n",
        "    Analyze a HeteroData object.\n",
        "\n",
        "    Parameters:\n",
        "        data (HeteroData): A PyG HeteroData object containing nodes of type 'event' and other node types.\n",
        "\n",
        "    This function prints:\n",
        "      1. The total number of object nodes (i.e. non-'event' nodes).\n",
        "      2. The total number of edges across all relations.\n",
        "      3. The number of object node types (excluding 'event' type).\n",
        "    \"\"\"\n",
        "    # Count total object nodes and record object node types\n",
        "    total_object_nodes = 0\n",
        "    object_node_types = []\n",
        "    for node_type in data.node_types:\n",
        "        if node_type != 'event':\n",
        "            object_node_types.append(node_type)\n",
        "            # Use num_nodes attribute if available, otherwise infer from a feature (e.g., x)\n",
        "            if hasattr(data[node_type], 'num_nodes'):\n",
        "                total_object_nodes += data[node_type].num_nodes\n",
        "            else:\n",
        "                total_object_nodes += data[node_type].x.size(0)\n",
        "\n",
        "    # Count total number of edges from all edge types\n",
        "    total_edges = 0\n",
        "    for edge_type in data.edge_types:\n",
        "        # Each edge type is a tuple (source, relation, target)\n",
        "        edge_index = data[edge_type].edge_index\n",
        "        total_edges += edge_index.size(1)\n",
        "\n",
        "    # Print results\n",
        "    print(\"Total object nodes (non-'event' nodes):\", total_object_nodes)\n",
        "    print(\"Total number of edges:\", total_edges)\n",
        "    print(\"Number of object node types:\", len(object_node_types))\n",
        "\n",
        "# Example usage:\n",
        "# Assume 'heterodata' is your HeteroData object.\n",
        "# analyze_heterodata(heterodata)\n"
      ]
    },
    {
      "cell_type": "code",
      "source": [
        "tot_nodes = data.num_nodes\n",
        "event_nodes = data['event'].num_nodes\n",
        "object_nodes = tot_nodes - event_nodes\n",
        "\n",
        "print(f'Total Number of nodes: {tot_nodes} (Event nodes: {event_nodes}, Object Nodes: {object_nodes})')\n",
        "print(f'Number of edges: {data.num_edges}')"
      ],
      "metadata": {
        "colab": {
          "base_uri": "https://localhost:8080/"
        },
        "id": "gY2yeeoeZmms",
        "outputId": "5e31c52e-986d-4075-b03d-8e8757999ccb"
      },
      "execution_count": 119,
      "outputs": [
        {
          "output_type": "stream",
          "name": "stdout",
          "text": [
            "Total Number of nodes: 464833 (Event nodes: 271032, Object Nodes: 193801)\n",
            "Number of edges: 2994049\n"
          ]
        }
      ]
    },
    {
      "cell_type": "code",
      "source": [
        "import matplotlib.pyplot as plt\n",
        "import matplotlib.patches as mpatches\n",
        "import networkx as nx\n",
        "import random\n",
        "\n",
        "def visualize_heterodata_meta_graph(data, figsize=(14, 14), seed=9, k=3.5, custom_colors=None):\n",
        "    \"\"\"\n",
        "    Visualizes a meta-level graph of node types and edge types from a PyG HeteroData object.\n",
        "    Each node in the NetworkX plot is a node type, and each directed edge is an edge type.\n",
        "    The visualization now uses colors, line styles, and a legend similar to visualize_heterodata_graph.\n",
        "\n",
        "    Args:\n",
        "        data (HeteroData): A PyG HeteroData object. We assume data.node_types and data.edge_types\n",
        "                           are available (PyG >= 2.0).\n",
        "        figsize (tuple): Figure size for the matplotlib plot.\n",
        "        seed (int): Random seed passed to NetworkX's spring_layout for reproducibility.\n",
        "        k (float): The optimal distance between nodes in the layout. Smaller means tighter clusters.\n",
        "        custom_colors (dict, optional): A dictionary mapping node types to colors.\n",
        "                                        e.g. {\"event\": \"red\", \"order\": \"green\"}.\n",
        "                                        If not provided, a default color cycle is used.\n",
        "\n",
        "    Returns:\n",
        "        str: The file path where the plot image is saved.\n",
        "    \"\"\"\n",
        "    import networkx as nx\n",
        "    import matplotlib.pyplot as plt\n",
        "    import matplotlib.lines as mlines\n",
        "    import random\n",
        "\n",
        "    # 1) Gather all node types and edge types from the HeteroData object\n",
        "    node_types = list(data.node_types)  # e.g. ['event', 'employee', 'order', ...]\n",
        "    edge_types = list(data.edge_types)  # e.g. [('event','E2O','order_step'), ...]\n",
        "\n",
        "    # 2) Initialize a directed graph at the meta-level\n",
        "    G = nx.DiGraph()\n",
        "\n",
        "    # 3) Add each node type as a single node in the graph\n",
        "    for ntype in node_types:\n",
        "        G.add_node(ntype)\n",
        "\n",
        "    # 4) Add an edge for each (src_type, relation, dst_type)\n",
        "    #    We store the \"relation\" in the edge attribute for labeling.\n",
        "    for (src_type, relation, dst_type) in edge_types:\n",
        "        G.add_edge(src_type, dst_type, relation=relation)\n",
        "\n",
        "    # 5) Define or generate a color for each node type (using same logic as visualize_heterodata_graph)\n",
        "    if custom_colors is not None:\n",
        "        node_color_map = {}\n",
        "        for ntype in node_types:\n",
        "            if ntype in custom_colors:\n",
        "                node_color_map[ntype] = custom_colors[ntype]\n",
        "            else:\n",
        "                node_color_map[ntype] = \"#%06x\" % random.randint(0, 0xFFFFFF)\n",
        "    else:\n",
        "        default_cycle = [\n",
        "            \"#1f78b4\", \"#33a02c\", \"#e31a1c\", \"#ff7f00\", \"#6a3d9a\",\n",
        "            \"#b15928\", \"#a6cee3\", \"#b2df8a\", \"#fb9a99\", \"#fdbf6f\",\n",
        "            \"#cab2d6\", \"#ffff99\"\n",
        "        ]\n",
        "        node_color_map = {ntype: default_cycle[i % len(default_cycle)]\n",
        "                          for i, ntype in enumerate(node_types)}\n",
        "\n",
        "    # Build a color list for the nodes in the meta graph\n",
        "    node_colors = [node_color_map[ntype] for ntype in G.nodes()]\n",
        "\n",
        "    # 6) Compute layout positions for the meta-nodes\n",
        "    pos = nx.spring_layout(G, seed=seed, k=k)\n",
        "\n",
        "    # 7) Draw the figure with updated style\n",
        "    plt.figure(figsize=figsize)\n",
        "\n",
        "    # Draw nodes (using a similar node size to visualize_heterodata_graph)\n",
        "    nx.draw_networkx_nodes(G, pos, node_size=750, node_color=node_colors)\n",
        "\n",
        "    # Define edge line styles and colors (similar to visualize_heterodata_graph)\n",
        "    edge_line_styles = {\n",
        "        'E2E': 'dotted',\n",
        "        'O2E': 'dashed',\n",
        "        'O2O': 'solid'\n",
        "    }\n",
        "\n",
        "    # Group meta edges by relation type for custom drawing\n",
        "    edge_groups = {}\n",
        "    for u, v, d in G.edges(data=True):\n",
        "        relation = d.get('relation', 'O2O')  # Default to O2O if missing\n",
        "        edge_groups.setdefault(relation, []).append((u, v))\n",
        "\n",
        "    # Draw each group with its own style and color\n",
        "    for relation, edges in edge_groups.items():\n",
        "        if relation == 'E2E':\n",
        "            edge_color = node_color_map.get(\"event\", \"#ff00ff\")\n",
        "        elif relation == 'O2O':\n",
        "            edge_color = \"black\"\n",
        "        elif relation == 'O2E':\n",
        "            edge_color = \"red\"\n",
        "        else:\n",
        "            edge_color = \"gray\"\n",
        "        line_style = edge_line_styles.get(relation, \"solid\")\n",
        "        nx.draw_networkx_edges(\n",
        "            G, pos, edgelist=edges, arrowstyle='-|>', arrowsize=20,\n",
        "            edge_color=edge_color, style=line_style,connectionstyle=\"arc3, rad=0.0\"\n",
        "        )\n",
        "\n",
        "    # Draw node labels\n",
        "    nx.draw_networkx_labels(G, pos, font_size=8, font_color='black')\n",
        "\n",
        "    # Draw edge labels (the \"relation\" attribute)\n",
        "    edge_labels = nx.get_edge_attributes(G, 'relation')\n",
        "    nx.draw_networkx_edge_labels(G, pos, edge_labels=edge_labels, font_size=8)\n",
        "\n",
        "    # 8) Create legend handles (using same legend as visualize_heterodata_graph)\n",
        "    e2e_handle = mlines.Line2D([], [], color=node_color_map.get(\"event\", \"#ff00ff\"),\n",
        "                               linestyle='dotted', label='E2E (event-event)')\n",
        "    e2o_handle = mlines.Line2D([], [], color='red', linestyle='dashed',\n",
        "                               label='E2O (event-object)')\n",
        "    o2o_handle = mlines.Line2D([], [], color='black', linestyle='solid',\n",
        "                               label='O2O (object-object)')\n",
        "    plt.legend(handles=[e2e_handle, e2o_handle, o2o_handle], loc='best', fontsize=8)\n",
        "\n",
        "    # Final formatting\n",
        "    plt.title(\"Meta-Graph of HeteroData Node Types and Edge Types\")\n",
        "    plt.axis('off')\n",
        "    plot_path = \"meta-graph.png\"\n",
        "    plt.show()\n"
      ],
      "metadata": {
        "id": "mTr5rTEtvJPU"
      },
      "execution_count": 120,
      "outputs": []
    },
    {
      "cell_type": "code",
      "source": [
        "visualize_heterodata_meta_graph(data)"
      ],
      "metadata": {
        "colab": {
          "base_uri": "https://localhost:8080/",
          "height": 1000
        },
        "id": "LqU_k22kHbmu",
        "outputId": "436e5876-2773-49b7-fe4a-24b925fd49d3"
      },
      "execution_count": 121,
      "outputs": [
        {
          "output_type": "display_data",
          "data": {
            "text/plain": [
              "<Figure size 1400x1400 with 1 Axes>"
            ],
            "image/png": "[encoded data removed]"
          },
          "metadata": {}
        }
      ]
    },
    {
      "cell_type": "code",
      "source": [
        "data.metadata()"
      ],
      "metadata": {
        "id": "v9PKHVnwLNeK",
        "colab": {
          "base_uri": "https://localhost:8080/"
        },
        "outputId": "2ac5d198-0a67-45eb-d9c4-c89ed22835dc"
      },
      "execution_count": 118,
      "outputs": [
        {
          "output_type": "execute_result",
          "data": {
            "text/plain": [
              "(['event',\n",
              "  'product',\n",
              "  'material',\n",
              "  'batch',\n",
              "  'lot',\n",
              "  'location',\n",
              "  'area',\n",
              "  'site',\n",
              "  'employee',\n",
              "  'order',\n",
              "  'order_step',\n",
              "  'tu'],\n",
              " [('lot', 'O2E', 'event'),\n",
              "  ('material', 'O2E', 'event'),\n",
              "  ('product', 'O2E', 'event'),\n",
              "  ('area', 'O2E', 'event'),\n",
              "  ('site', 'O2E', 'event'),\n",
              "  ('order', 'O2E', 'event'),\n",
              "  ('location', 'O2E', 'event'),\n",
              "  ('order_step', 'O2E', 'event'),\n",
              "  ('employee', 'O2E', 'event'),\n",
              "  ('tu', 'O2E', 'event'),\n",
              "  ('batch', 'O2E', 'event'),\n",
              "  ('event', 'E2E', 'event')])"
            ]
          },
          "metadata": {},
          "execution_count": 118
        }
      ]
    }
  ],
  "metadata": {
    "colab": {
      "provenance": [],
      "authorship_tag": "ABX9TyOZX5agXn8OEopJCeVbf2jk",
      "include_colab_link": true
    },
    "kernelspec": {
      "display_name": "Python 3",
      "name": "python3"
    },
    "language_info": {
      "name": "python"
    }
  },
  "nbformat": 4,
  "nbformat_minor": 0
}